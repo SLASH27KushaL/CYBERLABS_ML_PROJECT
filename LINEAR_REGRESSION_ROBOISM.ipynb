{
 "cells": [
  {
   "cell_type": "code",
   "execution_count": 1,
   "id": "9bae192f-b7cd-469e-8c3a-653a5a20cc82",
   "metadata": {},
   "outputs": [],
   "source": [
    "import pandas as pd\n",
    "import numpy as np"
   ]
  },
  {
   "cell_type": "code",
   "execution_count": 22,
   "id": "bf8148ea-b972-4cdb-b64d-c300dcf982cc",
   "metadata": {},
   "outputs": [],
   "source": [
    "df=pd.read_csv(\"Marks_dataset.csv\")\n",
    "x_train=df.iloc[:8000,:2].values\n",
    "x_train.shape\n",
    "y_train=df.iloc[:8000,2:3].values\n",
    "y_train\n",
    "\n",
    "x_test=df.iloc[8000:,:2].values\n",
    "y_test=df.iloc[8000:,2:3].values\n"
   ]
  },
  {
   "cell_type": "code",
   "execution_count": 23,
   "id": "3546f0e7-71a9-47e7-881f-9516101e3332",
   "metadata": {},
   "outputs": [],
   "source": [
    "def standardize(x_train):\n",
    "    x_mean=np.mean(x_train,axis=0)\n",
    "    x_men=np.repeat(x_mean,x_train.shape[0],axis=0).reshape(x_train.shape[1],x_train.shape[0])\n",
    "    x_mean_asli=np.transpose(x_men)\n",
    "    x_std3=np.std(x_train,axis=0)\n",
    "    x_std2=np.repeat(x_std3,x_train.shape[0],axis=0).reshape(x_train.shape[1],x_train.shape[0])\n",
    "    x_std=np.transpose(x_std2)\n",
    "    x_standardized=np.divide((x_train-x_mean_asli),x_std)\n",
    "    return (x_standardized)  "
   ]
  },
  {
   "cell_type": "code",
   "execution_count": 32,
   "id": "02cebc1f-f964-4ab9-975b-4616a23c6487",
   "metadata": {},
   "outputs": [
    {
     "data": {
      "text/plain": [
       "array([ 0.37447287,  0.13887423, -1.10074581, ...,  0.90012804,\n",
       "       -1.49508731,  0.63919281])"
      ]
     },
     "execution_count": 32,
     "metadata": {},
     "output_type": "execute_result"
    }
   ],
   "source": [
    "x1=standardize(x_train)\n",
    "x2=standardize(x_test)\n",
    "y2=standardize(y_test).reshape(y_test.shape[0])\n",
    "y1=standardize(y_train).reshape(y_train.shape[0])\n",
    "y2"
   ]
  },
  {
   "cell_type": "code",
   "execution_count": null,
   "id": "9afd3b58-982a-4a6b-8f1b-147f269cdaf6",
   "metadata": {},
   "outputs": [],
   "source": []
  },
  {
   "cell_type": "code",
   "execution_count": null,
   "id": "05bac944-0bf4-4de7-bb90-39cf04059b57",
   "metadata": {},
   "outputs": [],
   "source": []
  },
  {
   "cell_type": "code",
   "execution_count": 28,
   "id": "b230572a-8bc3-4a10-9394-ac7a2a03648d",
   "metadata": {},
   "outputs": [],
   "source": [
    "class LR:\n",
    "    \n",
    "    def __init__(self,learning_rate=0.02,epochs=10000):\n",
    "        \n",
    "        self.coef_ = None\n",
    "        self.intercept_ = None\n",
    "        self.lr = learning_rate\n",
    "        self.epochs = epochs\n",
    "        \n",
    "    def fit(self,X_train,y_train):\n",
    "        # init your coefs\n",
    "        self.intercept_ = 0\n",
    "        self.coef_ = np.ones(X_train.shape[1])\n",
    "        \n",
    "        for i in range(self.epochs):\n",
    "            # This will update all the coef and the intercept\n",
    "            y_hat = np.dot(X_train,self.coef_) + self.intercept_\n",
    "            intercept_der = -2 * np.mean(y_train - y_hat)\n",
    "            self.intercept_ = self.intercept_ - (self.lr * intercept_der)\n",
    "            \n",
    "            coef_der = -2 * np.dot((y_train - y_hat),X_train)/X_train.shape[0]\n",
    "            self.coef_ = self.coef_ - (self.lr * coef_der)\n",
    "        \n",
    "        print(self.intercept_,self.coef_)\n",
    "    \n",
    "    def predict(self,X_test):\n",
    "        return np.dot(X_test,self.coef_) + self.intercept_"
   ]
  },
  {
   "cell_type": "code",
   "execution_count": 29,
   "id": "a100d776-1a01-46e6-9fa8-ed98b8aed0c2",
   "metadata": {},
   "outputs": [],
   "source": [
    "kushal=LR()"
   ]
  },
  {
   "cell_type": "code",
   "execution_count": 31,
   "id": "4414cb0d-1bd5-4321-a37f-be1d4d6dcde6",
   "metadata": {},
   "outputs": [
    {
     "name": "stdout",
     "output_type": "stream",
     "text": [
      "3.31998365431231e-16 [0.99726153 0.05822086]\n"
     ]
    }
   ],
   "source": [
    "kushal.fit(x1,y1)"
   ]
  },
  {
   "cell_type": "code",
   "execution_count": 35,
   "id": "e426f000-41d9-48a5-970b-30519d7409d7",
   "metadata": {},
   "outputs": [],
   "source": [
    "y_pred=kushal.predict(x2)"
   ]
  },
  {
   "cell_type": "code",
   "execution_count": 36,
   "id": "0d18ac34-4227-43a5-ab9a-315ea562f4bb",
   "metadata": {},
   "outputs": [
    {
     "data": {
      "text/plain": [
       "0.9999976449044498"
      ]
     },
     "execution_count": 36,
     "metadata": {},
     "output_type": "execute_result"
    }
   ],
   "source": [
    "from sklearn.metrics import r2_score\n",
    "r2_score(y2,y_pred)\n"
   ]
  },
  {
   "cell_type": "code",
   "execution_count": null,
   "id": "6435da9a-1c39-463b-a6a4-d0e3f7a1eea9",
   "metadata": {},
   "outputs": [],
   "source": []
  }
 ],
 "metadata": {
  "kernelspec": {
   "display_name": "Python 3 (ipykernel)",
   "language": "python",
   "name": "python3"
  },
  "language_info": {
   "codemirror_mode": {
    "name": "ipython",
    "version": 3
   },
   "file_extension": ".py",
   "mimetype": "text/x-python",
   "name": "python",
   "nbconvert_exporter": "python",
   "pygments_lexer": "ipython3",
   "version": "3.11.5"
  }
 },
 "nbformat": 4,
 "nbformat_minor": 5
}
